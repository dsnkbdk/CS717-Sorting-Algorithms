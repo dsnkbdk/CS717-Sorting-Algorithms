{
 "cells": [
  {
   "cell_type": "markdown",
   "id": "88845708-8cb5-446a-bd7e-d1332777fe10",
   "metadata": {},
   "source": [
    "# Assignment 4"
   ]
  },
  {
   "cell_type": "code",
   "execution_count": 1,
   "id": "27b536c8-89da-459c-8d8e-33406ea5c1c1",
   "metadata": {},
   "outputs": [],
   "source": [
    "import math\n",
    "import random\n",
    "import numpy as np"
   ]
  },
  {
   "cell_type": "code",
   "execution_count": 2,
   "id": "35064c8a-7100-4ff6-901d-8aa2a277dcbc",
   "metadata": {},
   "outputs": [
    {
     "name": "stdout",
     "output_type": "stream",
     "text": [
      "Number of pass is: 20\n",
      "Number of NOT pass is: 980\n"
     ]
    }
   ],
   "source": [
    "# Create universal hash function \"H = ((ax + b) mod p) mod n\"\n",
    "def hash_function(a, b, p, element, len_bitArray):\n",
    "    return ((a * element + b) % p) % len_bitArray\n",
    "\n",
    "# Creating bloom filter\n",
    "def Bloom_Filter(len_bitArray = 8000000, trust_List = []):\n",
    "    \n",
    "    # Create a list to store parameters\n",
    "    parameter = []\n",
    "    \n",
    "    # Determine the number of hash functions\n",
    "    k = round(math.log(2) * len_bitArray / len(trust_List))\n",
    "\n",
    "    # Create a list of large prime numbers\n",
    "    prime_List = [8000009, 8200007, 8400011, 8600023, 8800009, 9000011, 9200017, 9400009, 9600037, 9800003]\n",
    "    \n",
    "    # Randomly generate the parameters of the hash function\n",
    "    for i in range(k):\n",
    "        \n",
    "        # Pick a large prime number p ≥ n\n",
    "        p = random.choice(prime_List)\n",
    "        \n",
    "        # Pick a random pair of integers 0 ≤ a, b < p\n",
    "        a = random.randint(1, 2**31)\n",
    "        b = random.randint(1, p)\n",
    "        \n",
    "        # Store the parameters to the list\n",
    "        parameter.append((a, b, p))\n",
    "    \n",
    "    # The bit array is initialized to 0\n",
    "    bitArray = [0] * len_bitArray\n",
    "\n",
    "    # Mapping elements to bit array\n",
    "    for element in trust_List:\n",
    "        for i in range(k):\n",
    "            hf = hash_function(parameter[i][0], parameter[i][1], parameter[i][2], element, len_bitArray)\n",
    "            \n",
    "            # Set that bit to 1\n",
    "            bitArray[hf] = 1\n",
    "\n",
    "    filter = [bitArray, parameter]\n",
    "    return filter\n",
    "\n",
    "# Testing\n",
    "def test_bloom_filters(bloom_filter = None):\n",
    "    \n",
    "    if bloom_filter == None:\n",
    "        return False\n",
    "\n",
    "    # Email from the address 1 ≤ a ≤ 1000000\n",
    "    white_List = list(range(1, 1000001))\n",
    "    \n",
    "    # 1000 spam email from the address x > 1000000\n",
    "    black_List = np.random.randint(low = 1000001, high = 2**32, size = 1000, dtype = 'i8')\n",
    "    \n",
    "    # Load to test set\n",
    "    test_Set = black_List\n",
    "    \n",
    "    trust = 0\n",
    "    spam = 0\n",
    "    \n",
    "    for element in test_Set:\n",
    "        \n",
    "        flag = True\n",
    "        \n",
    "        for i in range(len(filter[1])):\n",
    "            hf_test = hash_function(filter[1][i][0], filter[1][i][1], filter[1][i][2], element, len(filter[0]))\n",
    "            \n",
    "            if bloom_filter[0][hf_test] != 1:\n",
    "                flag = False \n",
    "                break\n",
    "\n",
    "        if flag is True:\n",
    "            # Count the number of passes\n",
    "            trust = trust + 1\n",
    "        else:\n",
    "            # Count the number of spams\n",
    "            spam = spam + 1\n",
    "    \n",
    "    print('Number of pass is:', trust)\n",
    "    print('Number of NOT pass is:', spam)\n",
    "    return\n",
    "\n",
    "if __name__ == \"__main__\":\n",
    "    \n",
    "    filter = Bloom_Filter(trust_List = list(range(1, 1000001)))\n",
    "    test_bloom_filters(filter)\n",
    "    "
   ]
  }
 ],
 "metadata": {
  "kernelspec": {
   "display_name": "Python 3 (ipykernel)",
   "language": "python",
   "name": "python3"
  },
  "language_info": {
   "codemirror_mode": {
    "name": "ipython",
    "version": 3
   },
   "file_extension": ".py",
   "mimetype": "text/x-python",
   "name": "python",
   "nbconvert_exporter": "python",
   "pygments_lexer": "ipython3",
   "version": "3.10.4"
  }
 },
 "nbformat": 4,
 "nbformat_minor": 5
}
