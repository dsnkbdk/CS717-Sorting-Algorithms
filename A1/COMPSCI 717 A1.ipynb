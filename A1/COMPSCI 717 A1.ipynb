{
 "cells": [
  {
   "cell_type": "markdown",
   "id": "4b5b29c9-5edb-47e5-81b8-c47fc9c2b137",
   "metadata": {
    "tags": []
   },
   "source": [
    "## 0. Preparation"
   ]
  },
  {
   "cell_type": "code",
   "execution_count": 1,
   "id": "3728e244-6238-4727-addd-661286b21cf8",
   "metadata": {},
   "outputs": [],
   "source": [
    "import random\n",
    "import time\n",
    "import numpy as np\n",
    "import matplotlib.pyplot as plt"
   ]
  },
  {
   "cell_type": "markdown",
   "id": "179a915e-20a0-4c50-b3cd-08fdc8cc6a02",
   "metadata": {
    "tags": []
   },
   "source": [
    "## Task 1"
   ]
  },
  {
   "cell_type": "markdown",
   "id": "414cef8f-11a2-48f6-9455-dd2e1bcf401e",
   "metadata": {
    "tags": []
   },
   "source": [
    "**Implementing selection sort, insertion sort, merge sort and quick sort in ascending order (6 pts)**"
   ]
  },
  {
   "cell_type": "markdown",
   "id": "3d1b1a3b-3997-4cb6-8a5b-ad52582416b8",
   "metadata": {
    "tags": []
   },
   "source": [
    "### Part I: Write a program with required components:"
   ]
  },
  {
   "cell_type": "markdown",
   "id": "d4d7c2ad-7804-479e-a4ba-b582507c19d9",
   "metadata": {
    "jp-MarkdownHeadingCollapsed": true,
    "tags": []
   },
   "source": [
    "1. Given an array A of n real values, verify that A is sorted or unsorted in ascending order. What is the running time complexity of your verifying algorithm in term of big-O notation in n? Explain your answer."
   ]
  },
  {
   "cell_type": "markdown",
   "id": "f9347dbc-dcba-4f53-bc3f-61f849b1cfae",
   "metadata": {
    "tags": []
   },
   "source": [
    "#### Part I: 1.1 Verify algorithm"
   ]
  },
  {
   "cell_type": "code",
   "execution_count": 2,
   "id": "4bc6ff02-c67c-4d74-a104-48a32775d186",
   "metadata": {},
   "outputs": [],
   "source": [
    "# Verify algorithm\n",
    "def isSorted(A):\n",
    "    if all(A[i] <= A[i+1] for i in range(len(A) - 1)) == 1:\n",
    "        return 'Array is ascending order'\n",
    "    elif all(A[i] >= A[i+1] for i in range(len(A) - 1)) == 1:\n",
    "        return 'Array is descending order'\n",
    "    else:\n",
    "        return 'Array is unsorted'"
   ]
  },
  {
   "cell_type": "code",
   "execution_count": 3,
   "id": "27e37b1f-6164-4f00-b295-d4fa4b8d146b",
   "metadata": {},
   "outputs": [
    {
     "name": "stdout",
     "output_type": "stream",
     "text": [
      "Array is ascending order\n",
      "Array is descending order\n",
      "Array is unsorted\n"
     ]
    }
   ],
   "source": [
    "# Test\n",
    "test_a = [1,3,5,7,9,11]\n",
    "print(isSorted(test_a))\n",
    "test_b = [10,8,6,4,2,0]\n",
    "print(isSorted(test_b))\n",
    "test_c = [1,10,3,8,5,6]\n",
    "print(isSorted(test_c))"
   ]
  },
  {
   "cell_type": "markdown",
   "id": "3df50ed9-8e12-44d6-9449-3b7d7afd7188",
   "metadata": {},
   "source": [
    "When the length of the array A is \"n\", the first \"if\" statement will compare all elements in A, for a total of \"n-1\" times. If the condition is met, it will return, otherwise the next \"elif\" statement will be executed. The \"elif\" statement also compares all elements in A, for a total of \"n-1\" times. If the condition is met, it will return, otherwise the last \"else\" statement will be executed. So the time complexity of this algorithm is O(n)."
   ]
  },
  {
   "cell_type": "markdown",
   "id": "5594c87d-32ff-4f4c-976c-d09b050ed242",
   "metadata": {},
   "source": [
    "2. Implement sorting algorithms: selection sort, insertion sort, merge sort and quick sort. For each sorting algorithms, output the number of comparisons used.\n",
    "3. Given a parameter n, generate an array of n random real values in [0,1]. Run the 4 implemented sorting algorithms. For each algorithm, you need to (1) verify the sorted output, (2) report the number of comparisons, and (3) report the running time in milliseconds."
   ]
  },
  {
   "cell_type": "markdown",
   "id": "bab2e7d3-5066-450b-8d44-098e569c93e1",
   "metadata": {
    "tags": []
   },
   "source": [
    "#### Part I: 2.1 Selection Sort"
   ]
  },
  {
   "cell_type": "code",
   "execution_count": 4,
   "id": "ad552725-3f6d-4f58-873e-3350c84a3c90",
   "metadata": {},
   "outputs": [
    {
     "name": "stdout",
     "output_type": "stream",
     "text": [
      "(0) Before sorting: Array is unsorted\n",
      "(1) After sorting: Array is ascending order\n",
      "(2) Number of comparisons: 499500\n",
      "(3) Running time: 82.77726173400879 ms\n"
     ]
    }
   ],
   "source": [
    "# Here we assume n=1000 for testing purposes\n",
    "array = [random.uniform(0,1) for i in range(1000)]\n",
    "print('(0) Before sorting:', isSorted(array))\n",
    "\n",
    "# Counter reset to zero\n",
    "count = 0\n",
    "run_time = 0\n",
    "sorted_array = []\n",
    "\n",
    "# Selection Sort\n",
    "def selectionSort(array):\n",
    "    global count\n",
    "    for i in range(len(array) - 1):\n",
    "        min_index = i\n",
    "        for j in range(i + 1, len(array)):\n",
    "            count=count+1\n",
    "            if array[j] < array[min_index]:\n",
    "                min_index = j\n",
    "        array[i], array[min_index] = array[min_index], array[i]\n",
    "    return array\n",
    "\n",
    "# Record start time\n",
    "start_time = time.time()\n",
    "\n",
    "sorted_array = selectionSort(array)\n",
    "\n",
    "# Running time = start time - current time\n",
    "run_time= (time.time()-start_time)*1000\n",
    "\n",
    "# Output\n",
    "print('(1) After sorting:', isSorted(sorted_array))\n",
    "print('(2) Number of comparisons:', count)\n",
    "print('(3) Running time:', run_time, 'ms')"
   ]
  },
  {
   "cell_type": "markdown",
   "id": "8eb81d49-2db1-4b6e-b37b-00c16789ffd1",
   "metadata": {
    "tags": []
   },
   "source": [
    "#### Part I: 2.2 Insertion Sort"
   ]
  },
  {
   "cell_type": "code",
   "execution_count": 5,
   "id": "7a65607a-a942-4f70-b422-a5f7044ae4a3",
   "metadata": {},
   "outputs": [
    {
     "name": "stdout",
     "output_type": "stream",
     "text": [
      "(0) Before sorting: Array is unsorted\n",
      "(1) After sorting: Array is ascending order\n",
      "(2) Number of comparisons: 255024\n",
      "(3) Running time: 59.84139442443848 ms\n"
     ]
    }
   ],
   "source": [
    "# Here we assume n=1000 for testing purposes\n",
    "array = [random.uniform(0,1) for i in range(1000)]\n",
    "print('(0) Before sorting:', isSorted(array))\n",
    "\n",
    "# Counter reset to zero\n",
    "count = 0\n",
    "run_time = 0\n",
    "sorted_array = []\n",
    "\n",
    "# Insertion Sort\n",
    "def insertionSort(array):\n",
    "    global count\n",
    "    for i in range(1, len(array)):\n",
    "        temp = array[i]\n",
    "        j = i - 1\n",
    "        count=count+1\n",
    "        while array[j] > temp and j >=0:\n",
    "            count=count+1\n",
    "            array[j+1] = array[j]\n",
    "            j = j - 1\n",
    "        array[j+1] = temp\n",
    "    return array\n",
    "\n",
    "# Record start time\n",
    "start_time = time.time()\n",
    "\n",
    "sorted_array = insertionSort(array)\n",
    "\n",
    "# Running time = start time - current time\n",
    "run_time= (time.time()-start_time)*1000\n",
    "\n",
    "# Output\n",
    "print('(1) After sorting:', isSorted(sorted_array))\n",
    "print('(2) Number of comparisons:', count)\n",
    "print('(3) Running time:', run_time, 'ms')"
   ]
  },
  {
   "cell_type": "markdown",
   "id": "38f7b98e-9643-4a87-b2d3-55f73c073bce",
   "metadata": {
    "tags": []
   },
   "source": [
    "#### Part I: 2.3 Merge Sort"
   ]
  },
  {
   "cell_type": "code",
   "execution_count": 6,
   "id": "766832b7-f7ff-410b-aae7-baf3e5e997bc",
   "metadata": {},
   "outputs": [
    {
     "name": "stdout",
     "output_type": "stream",
     "text": [
      "(0) Before sorting: Array is unsorted\n",
      "(1) After sorting: Array is ascending order\n",
      "(2) Number of comparisons: 8698\n",
      "(3) Running time: 5.984783172607422 ms\n"
     ]
    }
   ],
   "source": [
    "# Here we assume n=1000 for testing purposes\n",
    "array = [random.uniform(0,1) for i in range(1000)]\n",
    "print('(0) Before sorting:', isSorted(array))\n",
    "\n",
    "# Counter reset to zero\n",
    "count = 0\n",
    "run_time = 0\n",
    "sorted_array = []\n",
    "\n",
    "# Merge Sort\n",
    "def mergeSort(arr):\n",
    "\n",
    "    if len(arr) <= 1:\n",
    "        return arr\n",
    "\n",
    "    m = len(arr) // 2\n",
    "    L = mergeSort(arr[:m])\n",
    "    R = mergeSort(arr[m:])\n",
    "    return merge(L,R)\n",
    "\n",
    "def merge(L,R):\n",
    "\n",
    "    global count\n",
    "    newArr = []\n",
    "    i = 0\n",
    "    j = 0\n",
    "    \n",
    "    while i < len(L) and j < len(R):\n",
    "        if L[i] <= R[j]:\n",
    "            count=count+1\n",
    "            newArr.append(L[i])\n",
    "            i += 1\n",
    "        else:\n",
    "            count=count+1\n",
    "            newArr.append(R[j])\n",
    "            j += 1\n",
    "\n",
    "    newArr += L[i:]\n",
    "    newArr += R[j:]\n",
    "    return newArr\n",
    "\n",
    "# Record start time\n",
    "start_time = time.time()\n",
    "\n",
    "sorted_array = mergeSort(array)\n",
    "\n",
    "# Running time = start time - current time\n",
    "run_time= (time.time()-start_time)*1000\n",
    "\n",
    "# Output\n",
    "print('(1) After sorting:', isSorted(sorted_array))\n",
    "print('(2) Number of comparisons:', count)\n",
    "print('(3) Running time:', run_time, 'ms')"
   ]
  },
  {
   "cell_type": "markdown",
   "id": "08f711e4-22eb-41b2-bbed-9e7abd603656",
   "metadata": {
    "tags": []
   },
   "source": [
    "#### Part I: 2.4 Quick Sort"
   ]
  },
  {
   "cell_type": "code",
   "execution_count": 7,
   "id": "072948ae-2b10-4ebf-b366-fc7f7cfed883",
   "metadata": {},
   "outputs": [
    {
     "name": "stdout",
     "output_type": "stream",
     "text": [
      "(0) Before sorting: Array is unsorted\n",
      "(1) After sorting: Array is ascending order\n",
      "(2) Number of comparisons: 10536\n",
      "(3) Running time: 3.9894580841064453 ms\n"
     ]
    }
   ],
   "source": [
    "# Here we assume n=1000 for testing purposes\n",
    "array = [random.uniform(0,1) for i in range(1000)]\n",
    "print('(0) Before sorting:', isSorted(array))\n",
    "\n",
    "# Counter reset to zero\n",
    "count = 0\n",
    "run_time = 0\n",
    "sorted_array = []\n",
    "\n",
    "# Quick Sort\n",
    "def partition(array, l, r):\n",
    "    global count\n",
    "    pivot = array[r]\n",
    "    i = l - 1\n",
    "    for j in range(l, r):\n",
    "        count=count+1\n",
    "        if array[j] <= pivot:\n",
    "            i += 1\n",
    "            array[i], array[j] = array[j], array[i]\n",
    "    array[i + 1], array[r] = array[r], array[i+1]\n",
    "    return i + 1\n",
    "\n",
    "def quickSort(array, l, r):\n",
    "    if l < r:\n",
    "        q = partition(array, l, r)\n",
    "        quickSort(array, l, q-1)\n",
    "        quickSort(array, q+1, r)\n",
    "    return array\n",
    "\n",
    "# Record start time\n",
    "start_time = time.time()\n",
    "\n",
    "sorted_array = quickSort(array, 0, len(array)-1)\n",
    "\n",
    "# Running time = start time - current time\n",
    "run_time= (time.time()-start_time)*1000\n",
    "\n",
    "# Output\n",
    "print('(1) After sorting:', isSorted(sorted_array))\n",
    "print('(2) Number of comparisons:', count)\n",
    "print('(3) Running time:', run_time, 'ms')"
   ]
  },
  {
   "cell_type": "markdown",
   "id": "1e759f1e-799d-4ae1-8936-9344e7d84fe1",
   "metadata": {
    "tags": []
   },
   "source": [
    "It can be seen from the above results that, under the same data size, selection sort requires the most comparisons and has the longest running time, followed by insertion sort. In contrast, merge sort and quick sort require fewer comparisons and running time."
   ]
  },
  {
   "cell_type": "markdown",
   "id": "379a097b-6899-4946-8fc8-2d2908ff6625",
   "metadata": {
    "tags": []
   },
   "source": [
    "### Part II: Using your written program to execute the following tasks."
   ]
  },
  {
   "cell_type": "markdown",
   "id": "08d0956d-604c-4339-9da9-b21bca753ec0",
   "metadata": {
    "tags": []
   },
   "source": [
    "1. We test the efficiency and accuracy of our implementations as follows. For n ∈ {10^3, 10^4, . . . , 10^6}, generate an array of n random values in [0,1]. Run the implementation of 4 sorting algorithms above, and for each algorithm, return the number of comparisons and the running time."
   ]
  },
  {
   "cell_type": "markdown",
   "id": "ec57837a-0b84-4c43-8814-51f6b292a04e",
   "metadata": {
    "tags": []
   },
   "source": [
    "#### Part II: 1.1 Selection Sort"
   ]
  },
  {
   "cell_type": "code",
   "execution_count": 8,
   "id": "2ff4474a-2687-4f09-8ab5-84418c081644",
   "metadata": {
    "tags": []
   },
   "outputs": [
    {
     "name": "stdout",
     "output_type": "stream",
     "text": [
      "(0) Before sorting: ['Array is unsorted', 'Array is unsorted', 'Array is unsorted']\n",
      "(1) After sorting: ['Array is ascending order', 'Array is ascending order', 'Array is ascending order']\n",
      "(2) Number of comparisons: [499500, 49995000, 4999950000]\n",
      "(3) Running time: [77.79312133789062, 7308.578729629517, 873655.9522151947]\n"
     ]
    }
   ],
   "source": [
    "n = [1e3,1e4,1e5]\n",
    "\n",
    "# Create arrays to store the results\n",
    "COUNT=[]\n",
    "RUN_TIME=[]\n",
    "B_S=[]\n",
    "A_S=[]\n",
    "\n",
    "for i in n:\n",
    "    A = [random.uniform(0,1) for j in range(int(i))]\n",
    "    B_S.append(isSorted(A))\n",
    "    \n",
    "    # Counter reset to zero\n",
    "    count = 0\n",
    "    run_time = 0\n",
    "    sorted_array = []\n",
    "    \n",
    "    # Record start time\n",
    "    start_time = time.time()\n",
    "    \n",
    "    sorted_array = selectionSort(A)\n",
    "\n",
    "    # Running time = start time - current time\n",
    "    run_time= (time.time()-start_time)*1000\n",
    "\n",
    "    A_S.append(isSorted(sorted_array))\n",
    "    COUNT.append(count)\n",
    "    RUN_TIME.append(run_time)\n",
    "    \n",
    "print('(0) Before sorting:', B_S)\n",
    "print('(1) After sorting:', A_S)\n",
    "print('(2) Number of comparisons:', COUNT)\n",
    "print('(3) Running time:', RUN_TIME)"
   ]
  },
  {
   "cell_type": "markdown",
   "id": "ff8bafd2-9cfa-4350-ba0c-ead837911f4e",
   "metadata": {
    "tags": []
   },
   "source": [
    "#### Part II: 1.2 Insertion Sort"
   ]
  },
  {
   "cell_type": "code",
   "execution_count": 9,
   "id": "f41daca6-a0e7-4e7d-bcc0-b303d03398f6",
   "metadata": {
    "tags": []
   },
   "outputs": [
    {
     "name": "stdout",
     "output_type": "stream",
     "text": [
      "(0) Before sorting: ['Array is unsorted', 'Array is unsorted', 'Array is unsorted']\n",
      "(1) After sorting: ['Array is ascending order', 'Array is ascending order', 'Array is ascending order']\n",
      "(2) Number of comparisons: [249514, 24782022, 2503177744]\n",
      "(3) Running time: [82.7796459197998, 8907.355070114136, 859897.7375030518]\n"
     ]
    }
   ],
   "source": [
    "n = [1e3,1e4,1e5]\n",
    "\n",
    "# Create arrays to store the results\n",
    "COUNT=[]\n",
    "RUN_TIME=[]\n",
    "B_S=[]\n",
    "A_S=[]\n",
    "\n",
    "for i in n:\n",
    "    A = [random.uniform(0,1) for j in range(int(i))]\n",
    "    B_S.append(isSorted(A))\n",
    "    \n",
    "    # Counter reset to zero\n",
    "    count = 0\n",
    "    run_time = 0\n",
    "    sorted_array = []\n",
    "    \n",
    "    # Record start time\n",
    "    start_time = time.time()\n",
    "    \n",
    "    sorted_array = insertionSort(A)\n",
    "\n",
    "    # Running time = start time - current time\n",
    "    run_time= (time.time()-start_time)*1000\n",
    "\n",
    "    A_S.append(isSorted(sorted_array))\n",
    "    COUNT.append(count)\n",
    "    RUN_TIME.append(run_time)\n",
    "    \n",
    "print('(0) Before sorting:', B_S)\n",
    "print('(1) After sorting:', A_S)\n",
    "print('(2) Number of comparisons:', COUNT)\n",
    "print('(3) Running time:', RUN_TIME)"
   ]
  },
  {
   "cell_type": "markdown",
   "id": "a232a36c-e961-4388-b1f4-4f659e04b366",
   "metadata": {
    "tags": []
   },
   "source": [
    "#### Part II: 1.3 Merge Sort"
   ]
  },
  {
   "cell_type": "code",
   "execution_count": 10,
   "id": "da0d0733-f678-4354-afb0-a9b5165fd646",
   "metadata": {
    "tags": []
   },
   "outputs": [
    {
     "name": "stdout",
     "output_type": "stream",
     "text": [
      "(0) Before sorting: ['Array is unsorted', 'Array is unsorted', 'Array is unsorted', 'Array is unsorted']\n",
      "(1) After sorting: ['Array is ascending order', 'Array is ascending order', 'Array is ascending order', 'Array is ascending order']\n",
      "(2) Number of comparisons: [8689, 120437, 1536485, 18675379]\n",
      "(3) Running time: [6.978511810302734, 84.77210998535156, 1029.2489528656006, 12545.483589172363]\n"
     ]
    }
   ],
   "source": [
    "n = [1e3,1e4,1e5,1e6]\n",
    "\n",
    "# Create arrays to store the results\n",
    "COUNT=[]\n",
    "RUN_TIME=[]\n",
    "B_S=[]\n",
    "A_S=[]\n",
    "\n",
    "for i in n:\n",
    "    A = [random.uniform(0,1) for j in range(int(i))]\n",
    "    B_S.append(isSorted(A))\n",
    "    \n",
    "    # Counter reset to zero\n",
    "    count = 0\n",
    "    run_time = 0\n",
    "    sorted_array = []\n",
    "    \n",
    "    # Record start time\n",
    "    start_time = time.time()\n",
    "    \n",
    "    sorted_array = mergeSort(A)\n",
    "\n",
    "    # Running time = start time - current time\n",
    "    run_time= (time.time()-start_time)*1000\n",
    "\n",
    "    A_S.append(isSorted(sorted_array))\n",
    "    COUNT.append(count)\n",
    "    RUN_TIME.append(run_time)\n",
    "    \n",
    "print('(0) Before sorting:', B_S)\n",
    "print('(1) After sorting:', A_S)\n",
    "print('(2) Number of comparisons:', COUNT)\n",
    "print('(3) Running time:', RUN_TIME)"
   ]
  },
  {
   "cell_type": "markdown",
   "id": "8808d634-dd18-4f03-b85b-5a0b247f4173",
   "metadata": {
    "tags": []
   },
   "source": [
    "#### Part II: 1.4 Quick Sort"
   ]
  },
  {
   "cell_type": "code",
   "execution_count": 11,
   "id": "73031606-46dc-45e7-8c99-d8e9100057e2",
   "metadata": {
    "tags": []
   },
   "outputs": [
    {
     "name": "stdout",
     "output_type": "stream",
     "text": [
      "(0) Before sorting: ['Array is unsorted', 'Array is unsorted', 'Array is unsorted', 'Array is unsorted']\n",
      "(1) After sorting: ['Array is ascending order', 'Array is ascending order', 'Array is ascending order', 'Array is ascending order']\n",
      "(2) Number of comparisons: [10453, 162488, 2100716, 25569940]\n",
      "(3) Running time: [2.9888153076171875, 51.86128616333008, 686.1636638641357, 8193.146228790283]\n"
     ]
    }
   ],
   "source": [
    "n = [1e3,1e4,1e5,1e6]\n",
    "\n",
    "# Create arrays to store the results\n",
    "COUNT=[]\n",
    "RUN_TIME=[]\n",
    "B_S=[]\n",
    "A_S=[]\n",
    "\n",
    "for i in n:\n",
    "    A = [random.uniform(0,1) for j in range(int(i))]\n",
    "    B_S.append(isSorted(A))\n",
    "    \n",
    "    # Counter reset to zero\n",
    "    count = 0\n",
    "    run_time = 0\n",
    "    sorted_array = []\n",
    "    \n",
    "    # Record start time\n",
    "    start_time = time.time()\n",
    "    \n",
    "    sorted_array = quickSort(A, 0, len(A)-1)\n",
    "\n",
    "    # Running time = start time - current time\n",
    "    run_time= (time.time()-start_time)*1000\n",
    "\n",
    "    A_S.append(isSorted(sorted_array))\n",
    "    COUNT.append(count)\n",
    "    RUN_TIME.append(run_time)\n",
    "    \n",
    "print('(0) Before sorting:', B_S)\n",
    "print('(1) After sorting:', A_S)\n",
    "print('(2) Number of comparisons:', COUNT)\n",
    "print('(3) Running time:', RUN_TIME)"
   ]
  },
  {
   "cell_type": "markdown",
   "id": "09cad927-09d5-44c0-aa73-6a725345bb0e",
   "metadata": {
    "tags": []
   },
   "source": [
    "2. Repeat Step 1 10 times to get the average of number of comparisons and the average running time for each sorting algorithm."
   ]
  },
  {
   "cell_type": "markdown",
   "id": "b1d2135c-bb1a-4d6a-a8ca-95de69dc4b35",
   "metadata": {
    "tags": []
   },
   "source": [
    "#### Part II: 2.1 Selection Sort"
   ]
  },
  {
   "cell_type": "code",
   "execution_count": 15,
   "id": "be976160-d372-4560-9164-c3cfc5f3ac3b",
   "metadata": {
    "tags": []
   },
   "outputs": [
    {
     "name": "stdout",
     "output_type": "stream",
     "text": [
      "Mean of the number of comparisons: [499500.0, 49995000.0]\n",
      "Mean of the running time: [107.91125297546387, 10414.930963516235]\n"
     ]
    }
   ],
   "source": [
    "n = [1e3,1e4]\n",
    "\n",
    "# Create arrays to store the results\n",
    "COUNT=[]\n",
    "RUN_TIME=[]\n",
    "\n",
    "for k in range(10):\n",
    "    for i in n:\n",
    "        A = [random.uniform(0,1) for j in range(int(i))]\n",
    "\n",
    "        # Counter reset to zero\n",
    "        count = 0\n",
    "        run_time = 0\n",
    "        sorted_array = []\n",
    "\n",
    "        # Record start time\n",
    "        start_time = time.time()\n",
    "\n",
    "        sorted_array = selectionSort(A)\n",
    "\n",
    "        # Running time = start time - current time\n",
    "        run_time= (time.time()-start_time)*1000\n",
    "\n",
    "        COUNT.append(count)\n",
    "        RUN_TIME.append(run_time)\n",
    "\n",
    "COUNTe3=COUNT[::2]\n",
    "meanCOUNTe3=np.mean(COUNTe3)\n",
    "COUNTe4=COUNT[1::2]\n",
    "meanCOUNTe4=np.mean(COUNTe4)\n",
    "COUNT_s=[meanCOUNTe3,meanCOUNTe4]\n",
    "print('Mean of the number of comparisons:',COUNT_s)\n",
    "\n",
    "RUN_TIMEe3=RUN_TIME[::2]\n",
    "meanRUN_TIMEe3=np.mean(RUN_TIMEe3)\n",
    "RUN_TIMEe4=RUN_TIME[1::2]\n",
    "meanRUN_TIMEe4=np.mean(RUN_TIMEe4)\n",
    "RUN_TIME_s=[meanRUN_TIMEe3,meanRUN_TIMEe4]\n",
    "print('Mean of the running time:',RUN_TIME_s)"
   ]
  },
  {
   "cell_type": "markdown",
   "id": "350428fd-da44-4703-9a38-8f95934a837f",
   "metadata": {
    "tags": []
   },
   "source": [
    "#### Part II: 2.2 Insertion Sort"
   ]
  },
  {
   "cell_type": "code",
   "execution_count": 16,
   "id": "3ec0a7c4-8538-497f-9c12-5b11b134227a",
   "metadata": {
    "tags": []
   },
   "outputs": [
    {
     "name": "stdout",
     "output_type": "stream",
     "text": [
      "Mean of the number of comparisons: [248624.7, 24980500.9]\n",
      "Mean of the running time: [83.5057020187378, 8785.740995407104]\n"
     ]
    }
   ],
   "source": [
    "n = [1e3,1e4]\n",
    "\n",
    "# Create arrays to store the results\n",
    "COUNT=[]\n",
    "RUN_TIME=[]\n",
    "\n",
    "for k in range(10):\n",
    "    for i in n:\n",
    "        A = [random.uniform(0,1) for j in range(int(i))]\n",
    "    \n",
    "        # Counter reset to zero\n",
    "        count = 0\n",
    "        run_time = 0\n",
    "        sorted_array = []\n",
    "    \n",
    "        # Record start time\n",
    "        start_time = time.time()\n",
    "    \n",
    "        sorted_array = insertionSort(A)\n",
    "\n",
    "        # Running time = start time - current time\n",
    "        run_time= (time.time()-start_time)*1000\n",
    "\n",
    "        COUNT.append(count)\n",
    "        RUN_TIME.append(run_time)\n",
    "        \n",
    "COUNTe3=COUNT[::2]\n",
    "meanCOUNTe3=np.mean(COUNTe3)\n",
    "COUNTe4=COUNT[1::2]\n",
    "meanCOUNTe4=np.mean(COUNTe4)\n",
    "COUNT_i=[meanCOUNTe3,meanCOUNTe4]\n",
    "print('Mean of the number of comparisons:',COUNT_i)\n",
    "\n",
    "RUN_TIMEe3=RUN_TIME[::2]\n",
    "meanRUN_TIMEe3=np.mean(RUN_TIMEe3)\n",
    "RUN_TIMEe4=RUN_TIME[1::2]\n",
    "meanRUN_TIMEe4=np.mean(RUN_TIMEe4)\n",
    "RUN_TIME_i=[meanRUN_TIMEe3,meanRUN_TIMEe4]\n",
    "print('Mean of the running time:',RUN_TIME_i)"
   ]
  },
  {
   "cell_type": "markdown",
   "id": "2a4cd563-32ca-46f5-9a67-01263167ae40",
   "metadata": {
    "tags": []
   },
   "source": [
    "#### Part II: 2.3 Merge Sort"
   ]
  },
  {
   "cell_type": "code",
   "execution_count": 17,
   "id": "7c315861-439f-464e-a52d-7ca565d8aa08",
   "metadata": {
    "tags": []
   },
   "outputs": [
    {
     "name": "stdout",
     "output_type": "stream",
     "text": [
      "Mean of the number of comparisons: [8703.9, 120449.1, 1536313.4, 18674051.5]\n",
      "Mean of the running time: [6.581926345825195, 84.32629108428955, 1034.4664096832275, 12662.304949760437]\n"
     ]
    }
   ],
   "source": [
    "n = [1e3,1e4,1e5,1e6]\n",
    "\n",
    "# Create arrays to store the results\n",
    "COUNT=[]\n",
    "RUN_TIME=[]\n",
    "\n",
    "for k in range(10):\n",
    "    for i in n:\n",
    "        A = [random.uniform(0,1) for j in range(int(i))]\n",
    "    \n",
    "        # Counter reset to zero\n",
    "        count = 0\n",
    "        run_time = 0\n",
    "        sorted_array = []\n",
    "    \n",
    "        # Record start time\n",
    "        start_time = time.time()\n",
    "    \n",
    "        sorted_array = mergeSort(A)\n",
    "\n",
    "        # Running time = start time - current time\n",
    "        run_time= (time.time()-start_time)*1000\n",
    "\n",
    "        COUNT.append(count)\n",
    "        RUN_TIME.append(run_time)\n",
    "    \n",
    "COUNTe3=COUNT[::4]\n",
    "meanCOUNTe3=np.mean(COUNTe3)\n",
    "COUNTe4=COUNT[1::4]\n",
    "meanCOUNTe4=np.mean(COUNTe4)\n",
    "COUNTe5=COUNT[2::4]\n",
    "meanCOUNTe5=np.mean(COUNTe5)\n",
    "COUNTe6=COUNT[3::4]\n",
    "meanCOUNTe6=np.mean(COUNTe6)\n",
    "COUNT_m=[meanCOUNTe3,meanCOUNTe4,meanCOUNTe5,meanCOUNTe6]\n",
    "print('Mean of the number of comparisons:',COUNT_m)\n",
    "\n",
    "RUN_TIMEe3=RUN_TIME[::4]\n",
    "meanRUN_TIMEe3=np.mean(RUN_TIMEe3)\n",
    "RUN_TIMEe4=RUN_TIME[1::4]\n",
    "meanRUN_TIMEe4=np.mean(RUN_TIMEe4)\n",
    "RUN_TIMEe5=RUN_TIME[2::4]\n",
    "meanRUN_TIMEe5=np.mean(RUN_TIMEe5)\n",
    "RUN_TIMEe6=RUN_TIME[3::4]\n",
    "meanRUN_TIMEe6=np.mean(RUN_TIMEe6)\n",
    "RUN_TIME_m=[meanRUN_TIMEe3,meanRUN_TIMEe4,meanRUN_TIMEe5,meanRUN_TIMEe6]\n",
    "print('Mean of the running time:',RUN_TIME_m)"
   ]
  },
  {
   "cell_type": "markdown",
   "id": "568fdd16-c4da-4043-ac0e-cea6ed96d02f",
   "metadata": {
    "tags": []
   },
   "source": [
    "#### Part II: 2.4 Quick Sort"
   ]
  },
  {
   "cell_type": "code",
   "execution_count": 18,
   "id": "e428afd8-2df7-43fa-9f8a-75aa34fc351b",
   "metadata": {
    "tags": []
   },
   "outputs": [
    {
     "name": "stdout",
     "output_type": "stream",
     "text": [
      "Mean of the number of comparisons: [10954.0, 155559.2, 2013570.5, 24502238.9]\n",
      "Mean of the running time: [3.5904407501220703, 50.56486129760742, 676.2089490890503, 8069.023585319519]\n"
     ]
    }
   ],
   "source": [
    "n = [1e3,1e4,1e5,1e6]\n",
    "\n",
    "# Create arrays to store the results\n",
    "COUNT=[]\n",
    "RUN_TIME=[]\n",
    "\n",
    "for k in range(10):\n",
    "    for i in n:\n",
    "        A = [random.uniform(0,1) for j in range(int(i))]\n",
    "    \n",
    "        # Counter reset to zero\n",
    "        count = 0\n",
    "        run_time = 0\n",
    "        sorted_array = []\n",
    "    \n",
    "        # Record start time\n",
    "        start_time = time.time()\n",
    "    \n",
    "        sorted_array = quickSort(A, 0, len(A)-1)\n",
    "\n",
    "        # Running time = start time - current time\n",
    "        run_time= (time.time()-start_time)*1000\n",
    "\n",
    "        COUNT.append(count)\n",
    "        RUN_TIME.append(run_time)\n",
    "\n",
    "COUNTe3=COUNT[::4]\n",
    "meanCOUNTe3=np.mean(COUNTe3)\n",
    "COUNTe4=COUNT[1::4]\n",
    "meanCOUNTe4=np.mean(COUNTe4)\n",
    "COUNTe5=COUNT[2::4]\n",
    "meanCOUNTe5=np.mean(COUNTe5)\n",
    "COUNTe6=COUNT[3::4]\n",
    "meanCOUNTe6=np.mean(COUNTe6)\n",
    "COUNT_q=[meanCOUNTe3,meanCOUNTe4,meanCOUNTe5,meanCOUNTe6]\n",
    "print('Mean of the number of comparisons:',COUNT_q)\n",
    "\n",
    "RUN_TIMEe3=RUN_TIME[::4]\n",
    "meanRUN_TIMEe3=np.mean(RUN_TIMEe3)\n",
    "RUN_TIMEe4=RUN_TIME[1::4]\n",
    "meanRUN_TIMEe4=np.mean(RUN_TIMEe4)\n",
    "RUN_TIMEe5=RUN_TIME[2::4]\n",
    "meanRUN_TIMEe5=np.mean(RUN_TIMEe5)\n",
    "RUN_TIMEe6=RUN_TIME[3::4]\n",
    "meanRUN_TIMEe6=np.mean(RUN_TIMEe6)\n",
    "RUN_TIME_q=[meanRUN_TIMEe3,meanRUN_TIMEe4,meanRUN_TIMEe5,meanRUN_TIMEe6]\n",
    "print('Mean of the running time:',RUN_TIME_q)"
   ]
  },
  {
   "cell_type": "markdown",
   "id": "b0c41601-9e22-40b2-827b-25f9c84f4a78",
   "metadata": {
    "tags": []
   },
   "source": [
    "3. Visualize the difference in term of number of comparisons and running time among 4 sorting algorithms. Plot the first graph where the x-axis is the value of n and the y-axis is the average number of comparisons. Plot the second graph where the x-axis is the value of n and the y-axis is the average running time. Note that each graph must have 4 lines, each line with different color corresponding to different algorithm. Explain your findings in both theoretical and practical aspects."
   ]
  },
  {
   "cell_type": "markdown",
   "id": "89ba72f2-ebe1-4651-9687-e91922cc4e46",
   "metadata": {
    "tags": []
   },
   "source": [
    "#### Part II: 3.1 Visualization of the Average Number of Comparisons"
   ]
  },
  {
   "cell_type": "code",
   "execution_count": 19,
   "id": "1bbf68f6-9f2f-4942-81eb-2d08ae7fc9f6",
   "metadata": {
    "tags": []
   },
   "outputs": [
    {
     "data": {
      "image/png": "[encoded data removed]",
      "text/plain": [
       "<Figure size 720x720 with 1 Axes>"
      ]
     },
     "metadata": {
      "needs_background": "light"
     },
     "output_type": "display_data"
    }
   ],
   "source": [
    "plt.figure(figsize=(10,10))\n",
    "labels = ['1e3','1e4','1e5','1e6'] \n",
    "plt.xticks([1,2,4,8], labels)\n",
    "plt.title(\"Number of comparisons among 4 sorting algorithms\")\n",
    "plt.xlabel(\"Value of n\")\n",
    "plt.ylabel(\"Average Number of Comparisons\")\n",
    "\n",
    "x1 = [1,2]\n",
    "x2 = [1,2,4,8]\n",
    "ys = COUNT_s\n",
    "yi = COUNT_i\n",
    "ym = COUNT_m\n",
    "yq = COUNT_q\n",
    "\n",
    "plt.plot(x1, ys, label='Selection Sort')\n",
    "plt.plot(x1, yi, label='Insertion Sort')\n",
    "plt.plot(x2, ym, label='Merge Sort')\n",
    "plt.plot(x2, yq, label='Quick Sort')\n",
    "\n",
    "plt.legend()\n",
    "plt.show()"
   ]
  },
  {
   "cell_type": "markdown",
   "id": "3c3cf1c6-b2d1-49f4-8fc8-d2c318a696ab",
   "metadata": {
    "tags": []
   },
   "source": [
    "#### Part II: 3.2 Visualization of the Average Running Time"
   ]
  },
  {
   "cell_type": "code",
   "execution_count": 20,
   "id": "9736c934-69ef-4901-9465-ec57b92916ca",
   "metadata": {
    "tags": []
   },
   "outputs": [
    {
     "data": {
      "image/png": "[encoded data removed]",
      "text/plain": [
       "<Figure size 720x720 with 1 Axes>"
      ]
     },
     "metadata": {
      "needs_background": "light"
     },
     "output_type": "display_data"
    }
   ],
   "source": [
    "plt.figure(figsize=(10,10))\n",
    "labels = ['1e3','1e4','1e5','1e6'] \n",
    "plt.xticks([1,2,4,8], labels)\n",
    "plt.title(\"Running time among 4 sorting algorithms\")\n",
    "plt.xlabel(\"Value of n\")\n",
    "plt.ylabel(\"Average Running Time\")\n",
    "x1 = [1,2]\n",
    "x2 = [1,2,4,8]\n",
    "y_s = RUN_TIME_s\n",
    "y_i = RUN_TIME_i\n",
    "y_m = RUN_TIME_m\n",
    "y_q = RUN_TIME_q\n",
    "\n",
    "plt.plot(x1, y_s, label='Selection Sort')\n",
    "plt.plot(x1, y_i, label='Insertion Sort')\n",
    "plt.plot(x2, y_m, label='Merge Sort')\n",
    "plt.plot(x2, y_q, label='Quick Sort')\n",
    "\n",
    "plt.legend()\n",
    "plt.show()"
   ]
  },
  {
   "cell_type": "markdown",
   "id": "b62d7f6f-ca04-4790-a019-34ba4e938990",
   "metadata": {
    "tags": []
   },
   "source": [
    "As we can see from the two figures above, selection sort has the highest number of comparisons and average running time, followed by insertion sort. When the amount of data has not yet reached 10^4, the number of comparisons and the average running time of these two algorithms have shown an exponential increase. In comparison, merge sort and quick sort perform very well. The above practical results also verify the theoretical time complexity of these four sorting algorithms.\n",
    "- Selection Sort: O(n^2)\n",
    "- Insertion Sort: O(n^2)\n",
    "- Merge Sort: O(nlogn)\n",
    "- Quick Sort: O(nlogn)"
   ]
  },
  {
   "cell_type": "markdown",
   "id": "e66b2ee3-c77e-4fcd-b5b8-41b5a736018a",
   "metadata": {
    "tags": []
   },
   "source": [
    "4. Compare the running time between your implementations with the built-in sort() function of the used programming language. Explain your finding."
   ]
  },
  {
   "cell_type": "markdown",
   "id": "a2dfd698-8572-41d2-b30b-7ccb35bd4f27",
   "metadata": {
    "tags": []
   },
   "source": [
    "#### Part II: 4.1 Built-in sort() function"
   ]
  },
  {
   "cell_type": "code",
   "execution_count": 29,
   "id": "4814ec82-6ad6-48c8-9ea8-1c53a01f431e",
   "metadata": {
    "tags": []
   },
   "outputs": [
    {
     "name": "stdout",
     "output_type": "stream",
     "text": [
      "Mean of the running time: [0.19938945770263672, 1.4959335327148438, 20.046424865722656, 284.8376274108887]\n"
     ]
    }
   ],
   "source": [
    "n = [1e3,1e4,1e5,1e6]\n",
    "\n",
    "# Create arrays to store the results\n",
    "RUN_TIME=[]\n",
    "\n",
    "for k in range(10):\n",
    "    for i in n:\n",
    "        A = [random.uniform(0,1) for j in range(int(i))]\n",
    "    \n",
    "        # Counter reset to zero\n",
    "        run_time = 0\n",
    "\n",
    "        # Record start time\n",
    "        start_time = time.time()\n",
    "\n",
    "        A.sort()\n",
    "\n",
    "        # Running time = start time - current time\n",
    "        run_time= (time.time()-start_time)*1000\n",
    "\n",
    "        RUN_TIME.append(run_time)\n",
    "\n",
    "RUN_TIMEe3=RUN_TIME[::4]\n",
    "meanRUN_TIMEe3=np.mean(RUN_TIMEe3)\n",
    "RUN_TIMEe4=RUN_TIME[1::4]\n",
    "meanRUN_TIMEe4=np.mean(RUN_TIMEe4)\n",
    "RUN_TIMEe5=RUN_TIME[2::4]\n",
    "meanRUN_TIMEe5=np.mean(RUN_TIMEe5)\n",
    "RUN_TIMEe6=RUN_TIME[3::4]\n",
    "meanRUN_TIMEe6=np.mean(RUN_TIMEe6)\n",
    "RUN_TIME_py=[meanRUN_TIMEe3,meanRUN_TIMEe4,meanRUN_TIMEe5,meanRUN_TIMEe6]\n",
    "print('Mean of the running time:',RUN_TIME_py)"
   ]
  },
  {
   "cell_type": "code",
   "execution_count": 30,
   "id": "edf9c62f-6a8e-441f-94ed-b8ed79a97013",
   "metadata": {
    "tags": []
   },
   "outputs": [
    {
     "data": {
      "image/png": "[encoded data removed]",
      "text/plain": [
       "<Figure size 720x720 with 1 Axes>"
      ]
     },
     "metadata": {
      "needs_background": "light"
     },
     "output_type": "display_data"
    }
   ],
   "source": [
    "plt.figure(figsize=(10,10))\n",
    "labels = ['1e3','1e4','1e5','1e6'] \n",
    "plt.xticks([1,2,4,8], labels)\n",
    "plt.title(\"Running time among 5 sorting algorithms\")\n",
    "plt.xlabel(\"Value of n\")\n",
    "plt.ylabel(\"Average Running Time\")\n",
    "x1 = [1,2]\n",
    "x2 = [1,2,4,8]\n",
    "y_s = RUN_TIME_s\n",
    "y_i = RUN_TIME_i\n",
    "y_m = RUN_TIME_m\n",
    "y_q = RUN_TIME_q\n",
    "y_py= RUN_TIME_py\n",
    "\n",
    "plt.plot(x1, y_s, label='Selection Sort')\n",
    "plt.plot(x1, y_i, label='Insertion Sort')\n",
    "plt.plot(x2, y_m, label='Merge Sort')\n",
    "plt.plot(x2, y_q, label='Quick Sort')\n",
    "plt.plot(x2, y_py,label='Built-in Sort')\n",
    "\n",
    "plt.legend()\n",
    "plt.show()"
   ]
  },
  {
   "cell_type": "markdown",
   "id": "93b2e16f-5f71-4030-b8d0-02c330a447a1",
   "metadata": {
    "tags": []
   },
   "source": [
    "As shown in the above figure, python's built-in sorting algorithm is excellent, and its running time does not increase significantly even in the case of very large data volumes. After querying the Wiki, I learned that the built-in sorting algorithm of python is Timsort, which is a hybrid stable sorting algorithm derived from merge sort and insertion sort."
   ]
  },
  {
   "cell_type": "markdown",
   "id": "999f0014-4fbb-489f-9a51-d52e0b0e67f3",
   "metadata": {
    "tags": []
   },
   "source": [
    "## Task 2"
   ]
  },
  {
   "cell_type": "markdown",
   "id": "8f24ac02-ef17-4cde-804b-0731ecd6d246",
   "metadata": {
    "tags": []
   },
   "source": [
    "**Implementing heap sort in ascending order (2 pts)**"
   ]
  },
  {
   "cell_type": "markdown",
   "id": "f25d14a4-7249-4a96-8580-df9ae2193f8d",
   "metadata": {
    "tags": []
   },
   "source": [
    "Write a program that implements heap sort in ascending order and uses your heap sort to sort an array of n random values in [0,1] for n ∈ {10^3, 10^4, . . . , 10^6}. Similar to Task 1, we visualize the difference in running time between heap sort, merge sort and quick sort by plotting a graph where the x-axis is the value of n and the y-axis is the average time of 10 runs. The graph must have 3 lines, each line with different color corresponding to different algorithm. Explain your findings in both theoretical and practical aspects."
   ]
  },
  {
   "cell_type": "code",
   "execution_count": 43,
   "id": "fc24eb03-1483-42bb-97f5-ccf7bac47412",
   "metadata": {},
   "outputs": [],
   "source": [
    "# Heap Sort\n",
    "def heapSort(array):\n",
    "    first = len(array) // 2 - 1\n",
    "    for start in range(first, -1, -1):\n",
    "        heapify(array, start, len(array) - 1)\n",
    "    \n",
    "    for end in range(len(array) - 1, 0, -1):\n",
    "        array[0], array[end] = array[end], array[0]\n",
    "        heapify(array, 0, end - 1)\n",
    "    return array\n",
    "\n",
    "def heapify(array, start, end):\n",
    "    root = start\n",
    "    child = root * 2 + 1\n",
    "    while child <= end:\n",
    "        if child + 1 <= end and array[child] < array[child + 1]:\n",
    "            child += 1\n",
    "        \n",
    "        if array[root] < array[child]:\n",
    "            array[root], array[child] = array[child], array[root]\n",
    "            root = child\n",
    "            child = root * 2 + 1\n",
    "        else:\n",
    "            break"
   ]
  },
  {
   "cell_type": "code",
   "execution_count": 44,
   "id": "791337d7-462b-4cd4-a361-9569d9e19f5b",
   "metadata": {},
   "outputs": [
    {
     "name": "stdout",
     "output_type": "stream",
     "text": [
      "Mean of the running time: [4.985976219177246, 71.608567237854, 951.5005350112915, 12581.477403640747]\n"
     ]
    }
   ],
   "source": [
    "n = [1e3,1e4,1e5,1e6]\n",
    "\n",
    "# Create arrays to store the results\n",
    "RUN_TIME=[]\n",
    "\n",
    "for k in range(10):\n",
    "    for i in n:\n",
    "        A = [random.uniform(0,1) for j in range(int(i))]\n",
    "\n",
    "        # Counter reset to zero\n",
    "        run_time = 0\n",
    "        sorted_array = []\n",
    "    \n",
    "        # Record start time\n",
    "        start_time = time.time()\n",
    "    \n",
    "        sorted_array = heapSort(A)\n",
    "\n",
    "        # Running time = start time - current time\n",
    "        run_time= (time.time()-start_time)*1000\n",
    "\n",
    "        RUN_TIME.append(run_time)\n",
    "\n",
    "RUN_TIMEe3=RUN_TIME[::4]\n",
    "meanRUN_TIMEe3=np.mean(RUN_TIMEe3)\n",
    "RUN_TIMEe4=RUN_TIME[1::4]\n",
    "meanRUN_TIMEe4=np.mean(RUN_TIMEe4)\n",
    "RUN_TIMEe5=RUN_TIME[2::4]\n",
    "meanRUN_TIMEe5=np.mean(RUN_TIMEe5)\n",
    "RUN_TIMEe6=RUN_TIME[3::4]\n",
    "meanRUN_TIMEe6=np.mean(RUN_TIMEe6)\n",
    "RUN_TIME_h=[meanRUN_TIMEe3,meanRUN_TIMEe4,meanRUN_TIMEe5,meanRUN_TIMEe6]\n",
    "print('Mean of the running time:',RUN_TIME_h)"
   ]
  },
  {
   "cell_type": "code",
   "execution_count": 45,
   "id": "944b9ff3-9f29-4444-bcc7-df0a720ba28a",
   "metadata": {},
   "outputs": [
    {
     "data": {
      "image/png": "[encoded data removed]",
      "text/plain": [
       "<Figure size 720x720 with 1 Axes>"
      ]
     },
     "metadata": {
      "needs_background": "light"
     },
     "output_type": "display_data"
    }
   ],
   "source": [
    "plt.figure(figsize=(10,10))\n",
    "labels = ['1e3','1e4','1e5','1e6'] \n",
    "plt.xticks([1,2,4,8], labels)\n",
    "plt.title(\"Running time among 3 sorting algorithms\")\n",
    "plt.xlabel(\"Value of n\")\n",
    "plt.ylabel(\"Average Running Time\")\n",
    "\n",
    "x = [1,2,4,8]\n",
    "y_h = RUN_TIME_h\n",
    "y_m = RUN_TIME_m\n",
    "y_q = RUN_TIME_q\n",
    "\n",
    "plt.plot(x, y_h, label='Heap Sort')\n",
    "plt.plot(x, y_m, label='Merge Sort')\n",
    "plt.plot(x, y_q, label='Quick Sort')\n",
    "\n",
    "plt.legend()\n",
    "plt.show()"
   ]
  },
  {
   "cell_type": "markdown",
   "id": "da5852a7-ba9d-4da7-b199-e32dc9a72782",
   "metadata": {},
   "source": [
    "As shown in the figure above, the average running time required by the heap sort, merge sort, and quick sort algorithms are not much different. Relatively speaking, quick sort requires less running time, but both heap sort and quick sort are unstable. The above practical results also verify that the theoretical time complexity of these three sorting algorithms is the same O(nlogn)."
   ]
  },
  {
   "cell_type": "markdown",
   "id": "59a1da93-f2a5-4868-a81d-01b95a04a1e5",
   "metadata": {},
   "source": [
    "## Task 3"
   ]
  },
  {
   "cell_type": "markdown",
   "id": "011310d3-04dc-4c2a-a832-d0c4615b8fb9",
   "metadata": {},
   "source": [
    "**Implementing radix sort in ascending order (2 pts)**"
   ]
  },
  {
   "cell_type": "markdown",
   "id": "13bb4997-3a8a-497d-944b-6c430e46cfbf",
   "metadata": {},
   "source": [
    "Write a program that implements the radix sort in ascending order and uses your radix sort to sort an array of n random integers in [0,10^9] for n ∈ {10^3, 10^4, . . . , 10^6}. Similar to Task 1, we visualize the difference in running time between radix sort, merge sort and quick sort by plotting a graph where the x-axis is the value of n and the y-axis is the average time of 10 runs. The graph must have 3 lines, each line with different color corresponding to different algorithm. Explain your findings in both theoretical and practical aspects."
   ]
  },
  {
   "cell_type": "code",
   "execution_count": 46,
   "id": "6d4c9d58-2af9-40ce-9bb1-6a11161a1a2a",
   "metadata": {},
   "outputs": [],
   "source": [
    "# Radix sort\n",
    "def radixSort(array):\n",
    "    \n",
    "    n = len(str(max(array)))\n",
    "    for k in range(n):\n",
    "        buckets = [[] for i in range(10)]\n",
    "        for i in array:\n",
    "            \n",
    "            buckets[i//(10**k)%10].append(i)\n",
    "        array=[j for i in buckets for j in i]\n",
    "    return array"
   ]
  },
  {
   "cell_type": "code",
   "execution_count": 47,
   "id": "8545fa61-21ef-4c76-877e-b690dbdc9819",
   "metadata": {},
   "outputs": [
    {
     "name": "stdout",
     "output_type": "stream",
     "text": [
      "Mean of the running time: [4.586887359619141, 45.32966613769531, 468.15505027770996, 5648.969674110413]\n"
     ]
    }
   ],
   "source": [
    "n = [1e3,1e4,1e5,1e6]\n",
    "\n",
    "# Create arrays to store the results\n",
    "RUN_TIME=[]\n",
    "\n",
    "for k in range(10):\n",
    "    for i in n:\n",
    "        A = [random.randint(0,1e9) for j in range(int(i))]\n",
    "\n",
    "        # Counter reset to zero\n",
    "        run_time = 0\n",
    "        sorted_array = []\n",
    "    \n",
    "        # Record start time\n",
    "        start_time = time.time()\n",
    "    \n",
    "        sorted_array = radixSort(A)\n",
    "\n",
    "        # Running time = start time - current time\n",
    "        run_time= (time.time()-start_time)*1000\n",
    "\n",
    "        RUN_TIME.append(run_time)\n",
    "\n",
    "RUN_TIMEe3=RUN_TIME[::4]\n",
    "meanRUN_TIMEe3=np.mean(RUN_TIMEe3)\n",
    "RUN_TIMEe4=RUN_TIME[1::4]\n",
    "meanRUN_TIMEe4=np.mean(RUN_TIMEe4)\n",
    "RUN_TIMEe5=RUN_TIME[2::4]\n",
    "meanRUN_TIMEe5=np.mean(RUN_TIMEe5)\n",
    "RUN_TIMEe6=RUN_TIME[3::4]\n",
    "meanRUN_TIMEe6=np.mean(RUN_TIMEe6)\n",
    "RUN_TIME_r=[meanRUN_TIMEe3,meanRUN_TIMEe4,meanRUN_TIMEe5,meanRUN_TIMEe6]\n",
    "print('Mean of the running time:',RUN_TIME_r)"
   ]
  },
  {
   "cell_type": "code",
   "execution_count": 48,
   "id": "908dff62-5b1c-468c-98fd-2a16854224f6",
   "metadata": {},
   "outputs": [
    {
     "data": {
      "image/png": "[encoded data removed]",
      "text/plain": [
       "<Figure size 720x720 with 1 Axes>"
      ]
     },
     "metadata": {
      "needs_background": "light"
     },
     "output_type": "display_data"
    }
   ],
   "source": [
    "plt.figure(figsize=(10,10))\n",
    "labels = ['1e3','1e4','1e5','1e6'] \n",
    "plt.xticks([1,2,4,8], labels)\n",
    "plt.title(\"Running time among 3 sorting algorithms\")\n",
    "plt.xlabel(\"Value of n\")\n",
    "plt.ylabel(\"Average Running Time\")\n",
    "\n",
    "x = [1,2,4,8]\n",
    "y_r = RUN_TIME_r\n",
    "y_m = RUN_TIME_m\n",
    "y_q = RUN_TIME_q\n",
    "\n",
    "plt.plot(x, y_r, label='radix Sort')\n",
    "plt.plot(x, y_m, label='Merge Sort')\n",
    "plt.plot(x, y_q, label='Quick Sort')\n",
    "\n",
    "plt.legend()\n",
    "plt.show()"
   ]
  },
  {
   "cell_type": "markdown",
   "id": "46f08abd-0c35-4a28-a191-d3709b62daba",
   "metadata": {},
   "source": [
    "As shown in the above figure, among the three sorting algorithms, merge sort requires the longest average running time, followed by quick sort, and radix sort requires the least time. At the same time, both radix sort and merge sort are stable. The time complexity of radix sort is O(n*k), which is theoretically slightly better than O(nlogn) of merge sort and quick sort, which is also proved from practical results."
   ]
  }
 ],
 "metadata": {
  "kernelspec": {
   "display_name": "Python 3 (ipykernel)",
   "language": "python",
   "name": "python3"
  },
  "language_info": {
   "codemirror_mode": {
    "name": "ipython",
    "version": 3
   },
   "file_extension": ".py",
   "mimetype": "text/x-python",
   "name": "python",
   "nbconvert_exporter": "python",
   "pygments_lexer": "ipython3",
   "version": "3.10.0"
  }
 },
 "nbformat": 4,
 "nbformat_minor": 5
}
